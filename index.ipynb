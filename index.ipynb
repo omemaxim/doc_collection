{
 "cells": [
  {
   "cell_type": "code",
   "execution_count": null,
   "metadata": {},
   "outputs": [],
   "source": [
    "from doc_collection.core import *"
   ]
  },
  {
   "cell_type": "code",
   "execution_count": null,
   "metadata": {},
   "outputs": [],
   "source": [
    "# hide\n",
    "import warnings\n",
    "warnings.filterwarnings(\"ignore\")"
   ]
  },
  {
   "cell_type": "markdown",
   "metadata": {},
   "source": [
    "# doc_collection\n",
    "\n",
    "> A tool for collecting documentation of python libs."
   ]
  },
  {
   "cell_type": "markdown",
   "metadata": {},
   "source": [
    "## Install\n"
   ]
  },
  {
   "cell_type": "markdown",
   "metadata": {},
   "source": [
    "`git clone https://github.com/omemaxim/doc_collection`"
   ]
  },
  {
   "cell_type": "markdown",
   "metadata": {},
   "source": [
    "## How to use"
   ]
  },
  {
   "cell_type": "markdown",
   "metadata": {},
   "source": [
    "Firstly, you need to pip list of packages to be able to collect data from it:"
   ]
  },
  {
   "cell_type": "code",
   "execution_count": null,
   "metadata": {},
   "outputs": [],
   "source": [
    "pip_top_hundred()"
   ]
  },
  {
   "cell_type": "markdown",
   "metadata": {},
   "source": [
    "Now you are ready to extract data from all libs you have in your Python (where are can be some exceptions):"
   ]
  },
  {
   "cell_type": "code",
   "execution_count": null,
   "metadata": {},
   "outputs": [
    {
     "name": "stdout",
     "output_type": "stream",
     "text": [
      "--------------- exception during tensorflow-io-gcs-filesystem documentation extracting\n",
      "--------------- exception during theano documentation extracting\n"
     ]
    },
    {
     "data": {
      "text/html": [
       "<div>\n",
       "<style scoped>\n",
       "    .dataframe tbody tr th:only-of-type {\n",
       "        vertical-align: middle;\n",
       "    }\n",
       "\n",
       "    .dataframe tbody tr th {\n",
       "        vertical-align: top;\n",
       "    }\n",
       "\n",
       "    .dataframe thead th {\n",
       "        text-align: right;\n",
       "    }\n",
       "</style>\n",
       "<table border=\"1\" class=\"dataframe\">\n",
       "  <thead>\n",
       "    <tr style=\"text-align: right;\">\n",
       "      <th></th>\n",
       "      <th>text</th>\n",
       "      <th>name</th>\n",
       "      <th>library</th>\n",
       "    </tr>\n",
       "  </thead>\n",
       "  <tbody>\n",
       "    <tr>\n",
       "      <th>0</th>\n",
       "      <td>pandas.DataFrame.columns. AxisProperty\\n\\n    ...</td>\n",
       "      <td>pandas.DataFrame.columns</td>\n",
       "      <td>pandas</td>\n",
       "    </tr>\n",
       "    <tr>\n",
       "      <th>1</th>\n",
       "      <td>pandas.Series.index. AxisProperty\\n\\n    The i...</td>\n",
       "      <td>pandas.Series.index</td>\n",
       "      <td>pandas</td>\n",
       "    </tr>\n",
       "    <tr>\n",
       "      <th>2</th>\n",
       "      <td>pandas.DataFrame.index. AxisProperty\\n\\n    Th...</td>\n",
       "      <td>pandas.DataFrame.index</td>\n",
       "      <td>pandas</td>\n",
       "    </tr>\n",
       "    <tr>\n",
       "      <th>3</th>\n",
       "      <td>ipykernel.comm.Comm.topic. Bytes in module tra...</td>\n",
       "      <td>ipykernel.comm.Comm.topic</td>\n",
       "      <td>ipykernel</td>\n",
       "    </tr>\n",
       "    <tr>\n",
       "      <th>4</th>\n",
       "      <td>ipywidgets.Audio.value. Bytes in module traitl...</td>\n",
       "      <td>ipywidgets.Audio.value</td>\n",
       "      <td>ipykernel</td>\n",
       "    </tr>\n",
       "    <tr>\n",
       "      <th>...</th>\n",
       "      <td>...</td>\n",
       "      <td>...</td>\n",
       "      <td>...</td>\n",
       "    </tr>\n",
       "    <tr>\n",
       "      <th>56399</th>\n",
       "      <td>aiohttp.ClientResponse.url. reify\\n\\n</td>\n",
       "      <td>aiohttp.ClientResponse.url</td>\n",
       "      <td>aiohttp</td>\n",
       "    </tr>\n",
       "    <tr>\n",
       "      <th>56400</th>\n",
       "      <td>aiohttp.ClientResponse.url_obj. reify\\n\\n</td>\n",
       "      <td>aiohttp.ClientResponse.url_obj</td>\n",
       "      <td>aiohttp</td>\n",
       "    </tr>\n",
       "    <tr>\n",
       "      <th>56401</th>\n",
       "      <td>aiohttp.ClientResponse.history. reify\\n\\n    A...</td>\n",
       "      <td>aiohttp.ClientResponse.history</td>\n",
       "      <td>aiohttp</td>\n",
       "    </tr>\n",
       "    <tr>\n",
       "      <th>56402</th>\n",
       "      <td>aiohttp.BodyPartReader.filename. reify\\n\\n    ...</td>\n",
       "      <td>aiohttp.BodyPartReader.filename</td>\n",
       "      <td>aiohttp</td>\n",
       "    </tr>\n",
       "    <tr>\n",
       "      <th>56403</th>\n",
       "      <td>aiohttp.BodyPartReader.name. reify\\n\\n    Retu...</td>\n",
       "      <td>aiohttp.BodyPartReader.name</td>\n",
       "      <td>aiohttp</td>\n",
       "    </tr>\n",
       "  </tbody>\n",
       "</table>\n",
       "<p>56404 rows × 3 columns</p>\n",
       "</div>"
      ],
      "text/plain": [
       "                                                    text  \\\n",
       "0      pandas.DataFrame.columns. AxisProperty\\n\\n    ...   \n",
       "1      pandas.Series.index. AxisProperty\\n\\n    The i...   \n",
       "2      pandas.DataFrame.index. AxisProperty\\n\\n    Th...   \n",
       "3      ipykernel.comm.Comm.topic. Bytes in module tra...   \n",
       "4      ipywidgets.Audio.value. Bytes in module traitl...   \n",
       "...                                                  ...   \n",
       "56399              aiohttp.ClientResponse.url. reify\\n\\n   \n",
       "56400          aiohttp.ClientResponse.url_obj. reify\\n\\n   \n",
       "56401  aiohttp.ClientResponse.history. reify\\n\\n    A...   \n",
       "56402  aiohttp.BodyPartReader.filename. reify\\n\\n    ...   \n",
       "56403  aiohttp.BodyPartReader.name. reify\\n\\n    Retu...   \n",
       "\n",
       "                                  name    library  \n",
       "0             pandas.DataFrame.columns     pandas  \n",
       "1                  pandas.Series.index     pandas  \n",
       "2               pandas.DataFrame.index     pandas  \n",
       "3            ipykernel.comm.Comm.topic  ipykernel  \n",
       "4               ipywidgets.Audio.value  ipykernel  \n",
       "...                                ...        ...  \n",
       "56399       aiohttp.ClientResponse.url    aiohttp  \n",
       "56400   aiohttp.ClientResponse.url_obj    aiohttp  \n",
       "56401   aiohttp.ClientResponse.history    aiohttp  \n",
       "56402  aiohttp.BodyPartReader.filename    aiohttp  \n",
       "56403      aiohttp.BodyPartReader.name    aiohttp  \n",
       "\n",
       "[56404 rows x 3 columns]"
      ]
     },
     "execution_count": null,
     "metadata": {},
     "output_type": "execute_result"
    }
   ],
   "source": [
    "extract()"
   ]
  },
  {
   "cell_type": "markdown",
   "metadata": {},
   "source": [
    "Command above will return DataFrame of three columns: __text__ contains documentation of an object, __name__ contains the name and __library__ contains library of an object."
   ]
  }
 ],
 "metadata": {
  "kernelspec": {
   "display_name": "Python 3 (ipykernel)",
   "language": "python",
   "name": "python3"
  }
 },
 "nbformat": 4,
 "nbformat_minor": 2
}
