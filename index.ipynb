{
 "cells": [
  {
   "cell_type": "code",
   "execution_count": null,
   "metadata": {},
   "outputs": [],
   "source": [
    "# hide\n",
    "from doc_collection.core import *"
   ]
  },
  {
   "cell_type": "code",
   "execution_count": null,
   "metadata": {},
   "outputs": [],
   "source": [
    "# hide\n",
    "import warnings\n",
    "warnings.filterwarnings(\"ignore\")"
   ]
  },
  {
   "cell_type": "markdown",
   "metadata": {},
   "source": [
    "# doc_collection\n",
    "\n",
    "> A tool for collecting documentation of python libs."
   ]
  },
  {
   "cell_type": "markdown",
   "metadata": {},
   "source": [
    "## Install\n"
   ]
  },
  {
   "cell_type": "markdown",
   "metadata": {},
   "source": [
    "`git clone https://github.com/omemaxim/doc_collection`"
   ]
  },
  {
   "cell_type": "markdown",
   "metadata": {},
   "source": [
    "## How to use"
   ]
  },
  {
   "cell_type": "markdown",
   "metadata": {},
   "source": [
    "Firstly, you need to pip list of packages to be able to collect data from it:"
   ]
  },
  {
   "cell_type": "code",
   "execution_count": null,
   "metadata": {},
   "outputs": [],
   "source": [
    "pip_top_hundred()"
   ]
  },
  {
   "cell_type": "markdown",
   "metadata": {},
   "source": [
    "Now you are ready to extract data from all libs you've pipped and it's dependencies:"
   ]
  },
  {
   "cell_type": "code",
   "execution_count": null,
   "metadata": {},
   "outputs": [
    {
     "name": "stdout",
     "output_type": "stream",
     "text": [
      "--------------- error during tensorflow-io-gcs-filesystem documentation extracting\n",
      "--------------- error during theano documentation extracting\n"
     ]
    },
    {
     "data": {
      "text/html": [
       "<div>\n",
       "<style scoped>\n",
       "    .dataframe tbody tr th:only-of-type {\n",
       "        vertical-align: middle;\n",
       "    }\n",
       "\n",
       "    .dataframe tbody tr th {\n",
       "        vertical-align: top;\n",
       "    }\n",
       "\n",
       "    .dataframe thead th {\n",
       "        text-align: right;\n",
       "    }\n",
       "</style>\n",
       "<table border=\"1\" class=\"dataframe\">\n",
       "  <thead>\n",
       "    <tr style=\"text-align: right;\">\n",
       "      <th></th>\n",
       "      <th>text</th>\n",
       "      <th>paths</th>\n",
       "      <th>library</th>\n",
       "      <th>name</th>\n",
       "    </tr>\n",
       "  </thead>\n",
       "  <tbody>\n",
       "    <tr>\n",
       "      <th>0</th>\n",
       "      <td>Python Library Documentation: Any in module tr...</td>\n",
       "      <td>[ipykernel.comm.Comm.log]</td>\n",
       "      <td>ipykernel</td>\n",
       "      <td>ipykernel.comm.Comm.log</td>\n",
       "    </tr>\n",
       "    <tr>\n",
       "      <th>1</th>\n",
       "      <td>Python Library Documentation: AxisProperty\\n\\n...</td>\n",
       "      <td>[pandas.DataFrame.columns]</td>\n",
       "      <td>pandas</td>\n",
       "      <td>pandas.DataFrame.columns</td>\n",
       "    </tr>\n",
       "    <tr>\n",
       "      <th>2</th>\n",
       "      <td>Python Library Documentation: AxisProperty\\n\\n...</td>\n",
       "      <td>[pandas.Series.index]</td>\n",
       "      <td>pandas</td>\n",
       "      <td>pandas.Series.index</td>\n",
       "    </tr>\n",
       "    <tr>\n",
       "      <th>3</th>\n",
       "      <td>Python Library Documentation: AxisProperty\\n\\n...</td>\n",
       "      <td>[pandas.DataFrame.index]</td>\n",
       "      <td>pandas</td>\n",
       "      <td>pandas.DataFrame.index</td>\n",
       "    </tr>\n",
       "    <tr>\n",
       "      <th>4</th>\n",
       "      <td>Python Library Documentation: Bool in module o...</td>\n",
       "      <td>[openpyxl.chart.AreaChart.roundedCorners]</td>\n",
       "      <td>openpyxl</td>\n",
       "      <td>openpyxl.chart.AreaChart.roundedCorners</td>\n",
       "    </tr>\n",
       "    <tr>\n",
       "      <th>...</th>\n",
       "      <td>...</td>\n",
       "      <td>...</td>\n",
       "      <td>...</td>\n",
       "      <td>...</td>\n",
       "    </tr>\n",
       "    <tr>\n",
       "      <th>31263</th>\n",
       "      <td>Python Library Documentation: property\\n\\n    ...</td>\n",
       "      <td>[faiss.BufferList.wp]</td>\n",
       "      <td>faiss</td>\n",
       "      <td>faiss.BufferList.wp</td>\n",
       "    </tr>\n",
       "    <tr>\n",
       "      <th>31264</th>\n",
       "      <td>Python Library Documentation: reify\\n\\n</td>\n",
       "      <td>[aiohttp.ClientResponse.content_disposition]</td>\n",
       "      <td>aiohttp</td>\n",
       "      <td>aiohttp.ClientResponse.content_disposition</td>\n",
       "    </tr>\n",
       "    <tr>\n",
       "      <th>31265</th>\n",
       "      <td>Python Library Documentation: reify\\n\\n    A s...</td>\n",
       "      <td>[aiohttp.ClientResponse.history]</td>\n",
       "      <td>aiohttp</td>\n",
       "      <td>aiohttp.ClientResponse.history</td>\n",
       "    </tr>\n",
       "    <tr>\n",
       "      <th>31266</th>\n",
       "      <td>Python Library Documentation: reify\\n\\n    Ret...</td>\n",
       "      <td>[aiohttp.BodyPartReader.filename]</td>\n",
       "      <td>aiohttp</td>\n",
       "      <td>aiohttp.BodyPartReader.filename</td>\n",
       "    </tr>\n",
       "    <tr>\n",
       "      <th>31267</th>\n",
       "      <td>Python Library Documentation: reify\\n\\n    Ret...</td>\n",
       "      <td>[aiohttp.BodyPartReader.name]</td>\n",
       "      <td>aiohttp</td>\n",
       "      <td>aiohttp.BodyPartReader.name</td>\n",
       "    </tr>\n",
       "  </tbody>\n",
       "</table>\n",
       "<p>31268 rows × 4 columns</p>\n",
       "</div>"
      ],
      "text/plain": [
       "                                                    text  \\\n",
       "0      Python Library Documentation: Any in module tr...   \n",
       "1      Python Library Documentation: AxisProperty\\n\\n...   \n",
       "2      Python Library Documentation: AxisProperty\\n\\n...   \n",
       "3      Python Library Documentation: AxisProperty\\n\\n...   \n",
       "4      Python Library Documentation: Bool in module o...   \n",
       "...                                                  ...   \n",
       "31263  Python Library Documentation: property\\n\\n    ...   \n",
       "31264            Python Library Documentation: reify\\n\\n   \n",
       "31265  Python Library Documentation: reify\\n\\n    A s...   \n",
       "31266  Python Library Documentation: reify\\n\\n    Ret...   \n",
       "31267  Python Library Documentation: reify\\n\\n    Ret...   \n",
       "\n",
       "                                              paths    library  \\\n",
       "0                         [ipykernel.comm.Comm.log]  ipykernel   \n",
       "1                        [pandas.DataFrame.columns]     pandas   \n",
       "2                             [pandas.Series.index]     pandas   \n",
       "3                          [pandas.DataFrame.index]     pandas   \n",
       "4         [openpyxl.chart.AreaChart.roundedCorners]   openpyxl   \n",
       "...                                             ...        ...   \n",
       "31263                         [faiss.BufferList.wp]      faiss   \n",
       "31264  [aiohttp.ClientResponse.content_disposition]    aiohttp   \n",
       "31265              [aiohttp.ClientResponse.history]    aiohttp   \n",
       "31266             [aiohttp.BodyPartReader.filename]    aiohttp   \n",
       "31267                 [aiohttp.BodyPartReader.name]    aiohttp   \n",
       "\n",
       "                                             name  \n",
       "0                         ipykernel.comm.Comm.log  \n",
       "1                        pandas.DataFrame.columns  \n",
       "2                             pandas.Series.index  \n",
       "3                          pandas.DataFrame.index  \n",
       "4         openpyxl.chart.AreaChart.roundedCorners  \n",
       "...                                           ...  \n",
       "31263                         faiss.BufferList.wp  \n",
       "31264  aiohttp.ClientResponse.content_disposition  \n",
       "31265              aiohttp.ClientResponse.history  \n",
       "31266             aiohttp.BodyPartReader.filename  \n",
       "31267                 aiohttp.BodyPartReader.name  \n",
       "\n",
       "[31268 rows x 4 columns]"
      ]
     },
     "execution_count": null,
     "metadata": {},
     "output_type": "execute_result"
    }
   ],
   "source": [
    "extract()"
   ]
  },
  {
   "cell_type": "markdown",
   "metadata": {},
   "source": [
    "Command above will return DataFrame of four columns: __text__ contains documentation of an object, __paths__ contains all names of an object (can be more than one), __name__ contains the shortest name and __library__ contains library of an object."
   ]
  },
  {
   "cell_type": "markdown",
   "metadata": {},
   "source": [
    "# Elasticsearch \n",
    "## !!! 8.3.2 version of elastic was used\n",
    "To create index and load mentioned dataframe to elastic. "
   ]
  },
  {
   "cell_type": "code",
   "execution_count": null,
   "metadata": {},
   "outputs": [],
   "source": [
    "# es_add_bulk(extract()) - !!! Commented only to pass tests (tester does not have elastic program). Don't pay attantion"
   ]
  },
  {
   "cell_type": "markdown",
   "metadata": {},
   "source": [
    "The index's name is __doc__ and other fields are the same as in dataframe."
   ]
  }
 ],
 "metadata": {
  "kernelspec": {
   "display_name": "Python 3 (ipykernel)",
   "language": "python",
   "name": "python3"
  }
 },
 "nbformat": 4,
 "nbformat_minor": 2
}
