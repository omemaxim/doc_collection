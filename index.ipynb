{
 "cells": [
  {
   "cell_type": "code",
   "execution_count": null,
   "metadata": {},
   "outputs": [],
   "source": [
    "# hide\n",
    "import warnings\n",
    "from elasticsearch import Elasticsearch\n",
    "from sentence_transformers import SentenceTransformer\n",
    "warnings.filterwarnings(\"ignore\")"
   ]
  },
  {
   "cell_type": "markdown",
   "metadata": {},
   "source": [
    "# doc_collection\n",
    "\n",
    "> A __universal__ tool for collecting documentation of python libraries."
   ]
  },
  {
   "cell_type": "markdown",
   "metadata": {},
   "source": [
    "## How to install\n"
   ]
  },
  {
   "cell_type": "markdown",
   "metadata": {},
   "source": [
    "`git clone https://github.com/omemaxim/doc_collection`"
   ]
  },
  {
   "cell_type": "markdown",
   "metadata": {},
   "source": [
    "## Purpose"
   ]
  },
  {
   "cell_type": "markdown",
   "metadata": {},
   "source": [
    "Every well-maintained PyPi module has documentation in it's source. This tool provides functionality to collect, store and search in that documentation. You can either collect documentation of one specific library or documentation of all packages you've pipped at once."
   ]
  },
  {
   "cell_type": "markdown",
   "metadata": {},
   "source": [
    "# How to use"
   ]
  },
  {
   "cell_type": "markdown",
   "metadata": {},
   "source": [
    "## 1. Collection"
   ]
  },
  {
   "cell_type": "markdown",
   "metadata": {},
   "source": [
    "You can either collect documentation of one specific library or documentation of all packages in your python (including standard ones):"
   ]
  },
  {
   "cell_type": "markdown",
   "metadata": {},
   "source": [
    "### One library"
   ]
  },
  {
   "cell_type": "markdown",
   "metadata": {},
   "source": [
    "As mentioned above, there are two main functions: ``extract_one`` and ``extract``. The first one allows you to create a dataframe of documentation of specific library:"
   ]
  },
  {
   "cell_type": "code",
   "execution_count": null,
   "metadata": {},
   "outputs": [],
   "source": [
    "from doc_collection.core import extract_one"
   ]
  },
  {
   "cell_type": "code",
   "execution_count": null,
   "metadata": {},
   "outputs": [
    {
     "data": {
      "text/html": [
       "<div>\n",
       "<style scoped>\n",
       "    .dataframe tbody tr th:only-of-type {\n",
       "        vertical-align: middle;\n",
       "    }\n",
       "\n",
       "    .dataframe tbody tr th {\n",
       "        vertical-align: top;\n",
       "    }\n",
       "\n",
       "    .dataframe thead th {\n",
       "        text-align: right;\n",
       "    }\n",
       "</style>\n",
       "<table border=\"1\" class=\"dataframe\">\n",
       "  <thead>\n",
       "    <tr style=\"text-align: right;\">\n",
       "      <th></th>\n",
       "      <th>text</th>\n",
       "      <th>name</th>\n",
       "    </tr>\n",
       "  </thead>\n",
       "  <tbody>\n",
       "    <tr>\n",
       "      <th>0</th>\n",
       "      <td>pandas.DataFrame.columns. AxisProperty\\n\\n    ...</td>\n",
       "      <td>pandas.DataFrame.columns</td>\n",
       "    </tr>\n",
       "    <tr>\n",
       "      <th>1</th>\n",
       "      <td>pandas.Series.index. AxisProperty\\n\\n    The i...</td>\n",
       "      <td>pandas.Series.index</td>\n",
       "    </tr>\n",
       "    <tr>\n",
       "      <th>2</th>\n",
       "      <td>pandas.DataFrame.index. AxisProperty\\n\\n    Th...</td>\n",
       "      <td>pandas.DataFrame.index</td>\n",
       "    </tr>\n",
       "    <tr>\n",
       "      <th>3</th>\n",
       "      <td>pandas.IntervalIndex.is_non_overlapping_monoto...</td>\n",
       "      <td>pandas.IntervalIndex.is_non_overlapping_monotonic</td>\n",
       "    </tr>\n",
       "    <tr>\n",
       "      <th>4</th>\n",
       "      <td>pandas.IntervalIndex.is_unique. CachedProperty...</td>\n",
       "      <td>pandas.IntervalIndex.is_unique</td>\n",
       "    </tr>\n",
       "    <tr>\n",
       "      <th>...</th>\n",
       "      <td>...</td>\n",
       "      <td>...</td>\n",
       "    </tr>\n",
       "    <tr>\n",
       "      <th>2631</th>\n",
       "      <td>pandas.core.internals.SingleArrayManager.is_vi...</td>\n",
       "      <td>pandas.core.internals.SingleArrayManager.is_view</td>\n",
       "    </tr>\n",
       "    <tr>\n",
       "      <th>2632</th>\n",
       "      <td>pandas.core.internals.SingleBlockManager.is_vi...</td>\n",
       "      <td>pandas.core.internals.SingleBlockManager.is_view</td>\n",
       "    </tr>\n",
       "    <tr>\n",
       "      <th>2633</th>\n",
       "      <td>pandas.HDFStore.is_open. property\\n\\n    retur...</td>\n",
       "      <td>pandas.HDFStore.is_open</td>\n",
       "    </tr>\n",
       "    <tr>\n",
       "      <th>2634</th>\n",
       "      <td>pandas.RangeIndex.is_unique. property\\n\\n    r...</td>\n",
       "      <td>pandas.RangeIndex.is_unique</td>\n",
       "    </tr>\n",
       "    <tr>\n",
       "      <th>2635</th>\n",
       "      <td>pandas.HDFStore.root. property\\n\\n    return t...</td>\n",
       "      <td>pandas.HDFStore.root</td>\n",
       "    </tr>\n",
       "  </tbody>\n",
       "</table>\n",
       "<p>2636 rows × 2 columns</p>\n",
       "</div>"
      ],
      "text/plain": [
       "                                                   text  \\\n",
       "0     pandas.DataFrame.columns. AxisProperty\\n\\n    ...   \n",
       "1     pandas.Series.index. AxisProperty\\n\\n    The i...   \n",
       "2     pandas.DataFrame.index. AxisProperty\\n\\n    Th...   \n",
       "3     pandas.IntervalIndex.is_non_overlapping_monoto...   \n",
       "4     pandas.IntervalIndex.is_unique. CachedProperty...   \n",
       "...                                                 ...   \n",
       "2631  pandas.core.internals.SingleArrayManager.is_vi...   \n",
       "2632  pandas.core.internals.SingleBlockManager.is_vi...   \n",
       "2633  pandas.HDFStore.is_open. property\\n\\n    retur...   \n",
       "2634  pandas.RangeIndex.is_unique. property\\n\\n    r...   \n",
       "2635  pandas.HDFStore.root. property\\n\\n    return t...   \n",
       "\n",
       "                                                   name  \n",
       "0                              pandas.DataFrame.columns  \n",
       "1                                   pandas.Series.index  \n",
       "2                                pandas.DataFrame.index  \n",
       "3     pandas.IntervalIndex.is_non_overlapping_monotonic  \n",
       "4                        pandas.IntervalIndex.is_unique  \n",
       "...                                                 ...  \n",
       "2631   pandas.core.internals.SingleArrayManager.is_view  \n",
       "2632   pandas.core.internals.SingleBlockManager.is_view  \n",
       "2633                            pandas.HDFStore.is_open  \n",
       "2634                        pandas.RangeIndex.is_unique  \n",
       "2635                               pandas.HDFStore.root  \n",
       "\n",
       "[2636 rows x 2 columns]"
      ]
     },
     "execution_count": null,
     "metadata": {},
     "output_type": "execute_result"
    }
   ],
   "source": [
    "extract_one('pandas')"
   ]
  },
  {
   "cell_type": "markdown",
   "metadata": {},
   "source": [
    "Function above returns datafrane of two columns: __text__ column contains documentation and __name__ column contains name of  corresponding method/class/etc"
   ]
  },
  {
   "cell_type": "markdown",
   "metadata": {},
   "source": [
    "### All libraries at once"
   ]
  },
  {
   "cell_type": "markdown",
   "metadata": {},
   "source": [
    "Function below iterates over all modules in your local python and calls ``extract_one`` for all of it one by one"
   ]
  },
  {
   "cell_type": "code",
   "execution_count": null,
   "metadata": {},
   "outputs": [],
   "source": [
    "from doc_collection.core import extract"
   ]
  },
  {
   "cell_type": "code",
   "execution_count": null,
   "metadata": {},
   "outputs": [
    {
     "name": "stdout",
     "output_type": "stream",
     "text": [
      "--------------- exception during theano documentation extracting\n",
      "--------------- exception during tensorflow-io-gcs-filesystem documentation extracting\n"
     ]
    },
    {
     "data": {
      "text/html": [
       "<div>\n",
       "<style scoped>\n",
       "    .dataframe tbody tr th:only-of-type {\n",
       "        vertical-align: middle;\n",
       "    }\n",
       "\n",
       "    .dataframe tbody tr th {\n",
       "        vertical-align: top;\n",
       "    }\n",
       "\n",
       "    .dataframe thead th {\n",
       "        text-align: right;\n",
       "    }\n",
       "</style>\n",
       "<table border=\"1\" class=\"dataframe\">\n",
       "  <thead>\n",
       "    <tr style=\"text-align: right;\">\n",
       "      <th></th>\n",
       "      <th>text</th>\n",
       "      <th>name</th>\n",
       "      <th>library</th>\n",
       "    </tr>\n",
       "  </thead>\n",
       "  <tbody>\n",
       "    <tr>\n",
       "      <th>0</th>\n",
       "      <td>pandas.DataFrame.columns. AxisProperty\\n\\n    ...</td>\n",
       "      <td>pandas.DataFrame.columns</td>\n",
       "      <td>pandas</td>\n",
       "    </tr>\n",
       "    <tr>\n",
       "      <th>1</th>\n",
       "      <td>pandas.Series.index. AxisProperty\\n\\n    The i...</td>\n",
       "      <td>pandas.Series.index</td>\n",
       "      <td>pandas</td>\n",
       "    </tr>\n",
       "    <tr>\n",
       "      <th>2</th>\n",
       "      <td>pandas.DataFrame.index. AxisProperty\\n\\n    Th...</td>\n",
       "      <td>pandas.DataFrame.index</td>\n",
       "      <td>pandas</td>\n",
       "    </tr>\n",
       "    <tr>\n",
       "      <th>3</th>\n",
       "      <td>ipykernel.comm.Comm.topic. Bytes in module tra...</td>\n",
       "      <td>ipykernel.comm.Comm.topic</td>\n",
       "      <td>ipykernel</td>\n",
       "    </tr>\n",
       "    <tr>\n",
       "      <th>4</th>\n",
       "      <td>ipywidgets.Audio.value. Bytes in module traitl...</td>\n",
       "      <td>ipywidgets.Audio.value</td>\n",
       "      <td>ipykernel</td>\n",
       "    </tr>\n",
       "    <tr>\n",
       "      <th>...</th>\n",
       "      <td>...</td>\n",
       "      <td>...</td>\n",
       "      <td>...</td>\n",
       "    </tr>\n",
       "    <tr>\n",
       "      <th>57211</th>\n",
       "      <td>aiohttp.ClientResponse.url. reify\\n\\n</td>\n",
       "      <td>aiohttp.ClientResponse.url</td>\n",
       "      <td>aiohttp</td>\n",
       "    </tr>\n",
       "    <tr>\n",
       "      <th>57212</th>\n",
       "      <td>aiohttp.ClientResponse.url_obj. reify\\n\\n</td>\n",
       "      <td>aiohttp.ClientResponse.url_obj</td>\n",
       "      <td>aiohttp</td>\n",
       "    </tr>\n",
       "    <tr>\n",
       "      <th>57213</th>\n",
       "      <td>aiohttp.ClientResponse.history. reify\\n\\n    A...</td>\n",
       "      <td>aiohttp.ClientResponse.history</td>\n",
       "      <td>aiohttp</td>\n",
       "    </tr>\n",
       "    <tr>\n",
       "      <th>57214</th>\n",
       "      <td>aiohttp.BodyPartReader.filename. reify\\n\\n    ...</td>\n",
       "      <td>aiohttp.BodyPartReader.filename</td>\n",
       "      <td>aiohttp</td>\n",
       "    </tr>\n",
       "    <tr>\n",
       "      <th>57215</th>\n",
       "      <td>aiohttp.BodyPartReader.name. reify\\n\\n    Retu...</td>\n",
       "      <td>aiohttp.BodyPartReader.name</td>\n",
       "      <td>aiohttp</td>\n",
       "    </tr>\n",
       "  </tbody>\n",
       "</table>\n",
       "<p>57216 rows × 3 columns</p>\n",
       "</div>"
      ],
      "text/plain": [
       "                                                    text  \\\n",
       "0      pandas.DataFrame.columns. AxisProperty\\n\\n    ...   \n",
       "1      pandas.Series.index. AxisProperty\\n\\n    The i...   \n",
       "2      pandas.DataFrame.index. AxisProperty\\n\\n    Th...   \n",
       "3      ipykernel.comm.Comm.topic. Bytes in module tra...   \n",
       "4      ipywidgets.Audio.value. Bytes in module traitl...   \n",
       "...                                                  ...   \n",
       "57211              aiohttp.ClientResponse.url. reify\\n\\n   \n",
       "57212          aiohttp.ClientResponse.url_obj. reify\\n\\n   \n",
       "57213  aiohttp.ClientResponse.history. reify\\n\\n    A...   \n",
       "57214  aiohttp.BodyPartReader.filename. reify\\n\\n    ...   \n",
       "57215  aiohttp.BodyPartReader.name. reify\\n\\n    Retu...   \n",
       "\n",
       "                                  name    library  \n",
       "0             pandas.DataFrame.columns     pandas  \n",
       "1                  pandas.Series.index     pandas  \n",
       "2               pandas.DataFrame.index     pandas  \n",
       "3            ipykernel.comm.Comm.topic  ipykernel  \n",
       "4               ipywidgets.Audio.value  ipykernel  \n",
       "...                                ...        ...  \n",
       "57211       aiohttp.ClientResponse.url    aiohttp  \n",
       "57212   aiohttp.ClientResponse.url_obj    aiohttp  \n",
       "57213   aiohttp.ClientResponse.history    aiohttp  \n",
       "57214  aiohttp.BodyPartReader.filename    aiohttp  \n",
       "57215      aiohttp.BodyPartReader.name    aiohttp  \n",
       "\n",
       "[57216 rows x 3 columns]"
      ]
     },
     "execution_count": null,
     "metadata": {},
     "output_type": "execute_result"
    }
   ],
   "source": [
    "extract()"
   ]
  },
  {
   "cell_type": "markdown",
   "metadata": {},
   "source": [
    "Command above will return DataFrame of three columns: __text__ contains documentation of an object, __name__ contains the name and __library__ contains library of an object."
   ]
  },
  {
   "cell_type": "markdown",
   "metadata": {},
   "source": [
    "## 2. Storing"
   ]
  },
  {
   "cell_type": "markdown",
   "metadata": {},
   "source": [
    "A tool uses __ElasticSearch__ to store and search data, __sentence_transformers__ library to calculate embeddings for better search quallity."
   ]
  },
  {
   "cell_type": "markdown",
   "metadata": {},
   "source": [
    "### Prelims"
   ]
  },
  {
   "cell_type": "markdown",
   "metadata": {},
   "source": [
    "Make sure you initialised __elasticsearch__ and sequence2vec model like below"
   ]
  },
  {
   "cell_type": "code",
   "execution_count": null,
   "metadata": {},
   "outputs": [],
   "source": [
    "es = Elasticsearch('https://localhost:9200')\n",
    "\n",
    "model_name = 'sentence-transformers/all-mpnet-base-v2'\n",
    "model = SentenceTransformer(model_name)"
   ]
  },
  {
   "cell_type": "markdown",
   "metadata": {},
   "source": [
    "### Creating index & indexing data"
   ]
  },
  {
   "cell_type": "markdown",
   "metadata": {},
   "source": [
    "There are function to create index and index data from dataframe mentioned above:"
   ]
  },
  {
   "cell_type": "code",
   "execution_count": null,
   "metadata": {},
   "outputs": [],
   "source": [
    "doc_collection.search import index_data"
   ]
  },
  {
   "cell_type": "code",
   "execution_count": null,
   "metadata": {},
   "outputs": [],
   "source": [
    "# index_data(d, es, INDEX_NAME='my_index_name', BATCH_SIZE=5000)"
   ]
  },
  {
   "cell_type": "markdown",
   "metadata": {},
   "source": [
    "### Search"
   ]
  },
  {
   "cell_type": "code",
   "execution_count": null,
   "metadata": {},
   "outputs": [],
   "source": [
    "from doc_collection.search import query"
   ]
  },
  {
   "cell_type": "markdown",
   "metadata": {},
   "source": [
    "There are several ways to present data that was found. \n",
    "Query with following signature returns raw elasticsearch response:"
   ]
  },
  {
   "cell_type": "code",
   "execution_count": null,
   "metadata": {},
   "outputs": [],
   "source": [
    "# query(text, size, es, model, INDEX_NAME)"
   ]
  },
  {
   "cell_type": "markdown",
   "metadata": {},
   "source": [
    "By specifying ``field`` parameter into __name__, you can get only names of methods."
   ]
  },
  {
   "cell_type": "code",
   "execution_count": null,
   "metadata": {},
   "outputs": [
    {
     "data": {
      "text/plain": [
       "['pandas.DataFrame.drop',\n",
       " 'pandas.Series.drop',\n",
       " 'pandas.DataFrame.dropna',\n",
       " 'pyarrow.Table.drop',\n",
       " 'datasets.Dataset.drop_index',\n",
       " 'pandas.DataFrame.droplevel',\n",
       " 'datasets.IterableDatasetDict.remove_columns',\n",
       " 'datasets.IterableDataset.remove_columns',\n",
       " 'pandas.Series.droplevel',\n",
       " 'datasets.DatasetDict.remove_columns']"
      ]
     },
     "execution_count": null,
     "metadata": {},
     "output_type": "execute_result"
    }
   ],
   "source": [
    "# query(text='How to drop a column of dataframe?', size=10, es=es, model=model, INDEX_NAME='bert', field='name')"
   ]
  },
  {
   "cell_type": "markdown",
   "metadata": {},
   "source": [
    "By spicifying ``field`` parameter into __text__, you'll be able to get documentation:"
   ]
  },
  {
   "cell_type": "code",
   "execution_count": null,
   "metadata": {},
   "outputs": [
    {
     "name": "stdout",
     "output_type": "stream",
     "text": [
      "pandas.DataFrame.drop. function drop in module pandas.core.frame\n",
      "\n",
      "d\bdr\bro\bop\bp(self, labels=None, axis: 'Axis' = 0, index=None, columns=None, level: 'Level | None' = None, inplace: 'bool' = False, errors: 'str' = 'raise')\n",
      "    Drop specified labels from rows or columns.\n",
      "    \n",
      "    Remove rows or columns by specifying label names and corresponding\n",
      "    axis, or by specifying directly index or column names. When using a\n",
      "    multi-index, labels on different levels can be removed by specifying\n",
      "    the level. See the `user guide <advanced.shown_levels>`\n",
      "    for more information about the now unused levels.\n",
      "    \n",
      "    Parameters\n",
      "    ----------\n",
      "    labels : single label or list-like\n",
      "        Index or column labels to drop. A tuple will be used as a single\n",
      "        label and not treated as a list-like.\n",
      "    axis : {0 or 'index', 1 or 'columns'}, default 0\n",
      "        Whether to drop labels from the index (0 or 'index') or\n",
      "        columns (1 or 'columns').\n",
      "    index : single label or list-like\n",
      "        Alternative to specifying axis (``labels, axis=0``\n",
      "        is equivalent to ``index=labels``).\n",
      "    columns : single label or list-like\n",
      "        Alternative to specifying axis (``labels, axis=1``\n",
      "        is equivalent to ``columns=labels``).\n",
      "    level : int or level name, optional\n",
      "        For MultiIndex, level from which the labels will be removed.\n",
      "    inplace : bool, default False\n",
      "        If False, return a copy. Otherwise, do operation\n",
      "        inplace and return None.\n",
      "    errors : {'ignore', 'raise'}, default 'raise'\n",
      "        If 'ignore', suppress error and only existing labels are\n",
      "        dropped.\n",
      "    \n",
      "    Returns\n",
      "    -------\n",
      "    DataFrame or None\n",
      "        DataFrame without the removed index or column labels or\n",
      "        None if ``inplace=True``.\n",
      "    \n",
      "    Raises\n",
      "    ------\n",
      "    KeyError\n",
      "        If any of the labels is not found in the selected axis.\n",
      "    \n",
      "    See Also\n",
      "    --------\n",
      "    DataFrame.loc : Label-location based indexer for selection by label.\n",
      "    DataFrame.dropna : Return DataFrame with labels on given axis omitted\n",
      "        where (all or any) data are missing.\n",
      "    DataFrame.drop_duplicates : Return DataFrame with duplicate rows\n",
      "        removed, optionally only considering certain columns.\n",
      "    Series.drop : Return Series with specified index labels removed.\n",
      "    \n",
      "    Examples\n",
      "    --------\n",
      "    >>> df = pd.DataFrame(np.arange(12).reshape(3, 4),\n",
      "    ...                   columns=['A', 'B', 'C', 'D'])\n",
      "    >>> df\n",
      "       A  B   C   D\n",
      "    0  0  1   2   3\n",
      "    1  4  5   6   7\n",
      "    2  8  9  10  11\n",
      "    \n",
      "    Drop columns\n",
      "    \n",
      "    >>> df.drop(['B', 'C'], axis=1)\n",
      "       A   D\n",
      "    0  0   3\n",
      "    1  4   7\n",
      "    2  8  11\n",
      "    \n",
      "    >>> df.drop(columns=['B', 'C'])\n",
      "       A   D\n",
      "    0  0   3\n",
      "    1  4   7\n",
      "    2  8  11\n",
      "    \n",
      "    Drop a row by index\n",
      "    \n",
      "    >>> df.drop([0, 1])\n",
      "       A  B   C   D\n",
      "    2  8  9  10  11\n",
      "    \n",
      "    Drop columns and/or rows of MultiIndex DataFrame\n",
      "    \n",
      "    >>> midx = pd.MultiIndex(levels=[['lama', 'cow', 'falcon'],\n",
      "    ...                              ['speed', 'weight', 'length']],\n",
      "    ...                      codes=[[0, 0, 0, 1, 1, 1, 2, 2, 2],\n",
      "    ...                             [0, 1, 2, 0, 1, 2, 0, 1, 2]])\n",
      "    >>> df = pd.DataFrame(index=midx, columns=['big', 'small'],\n",
      "    ...                   data=[[45, 30], [200, 100], [1.5, 1], [30, 20],\n",
      "    ...                         [250, 150], [1.5, 0.8], [320, 250],\n",
      "    ...                         [1, 0.8], [0.3, 0.2]])\n",
      "    >>> df\n",
      "                    big     small\n",
      "    lama    speed   45.0    30.0\n",
      "            weight  200.0   100.0\n",
      "            length  1.5     1.0\n",
      "    cow     speed   30.0    20.0\n",
      "            weight  250.0   150.0\n",
      "            length  1.5     0.8\n",
      "    falcon  speed   320.0   250.0\n",
      "            weight  1.0     0.8\n",
      "            length  0.3     0.2\n",
      "    \n",
      "    Drop a specific index combination from the MultiIndex\n",
      "    DataFrame, i.e., drop the combination ``'falcon'`` and\n",
      "    ``'weight'``, which deletes only the corresponding row\n",
      "    \n",
      "    >>> df.drop(index=('falcon', 'weight'))\n",
      "                    big     small\n",
      "    lama    speed   45.0    30.0\n",
      "            weight  200.0   100.0\n",
      "            length  1.5     1.0\n",
      "    cow     speed   30.0    20.0\n",
      "            weight  250.0   150.0\n",
      "            length  1.5     0.8\n",
      "    falcon  speed   320.0   250.0\n",
      "            length  0.3     0.2\n",
      "    \n",
      "    >>> df.drop(index='cow', columns='small')\n",
      "                    big\n",
      "    lama    speed   45.0\n",
      "            weight  200.0\n",
      "            length  1.5\n",
      "    falcon  speed   320.0\n",
      "            weight  1.0\n",
      "            length  0.3\n",
      "    \n",
      "    >>> df.drop(index='length', level=1)\n",
      "                    big     small\n",
      "    lama    speed   45.0    30.0\n",
      "            weight  200.0   100.0\n",
      "    cow     speed   30.0    20.0\n",
      "            weight  250.0   150.0\n",
      "    falcon  speed   320.0   250.0\n",
      "            weight  1.0     0.8\n",
      "\n"
     ]
    }
   ],
   "source": [
    "# print(query(text='How to drop a column of dataframe?', size=1, es=es, model=model, INDEX_NAME='bert', field='text')[0])"
   ]
  },
  {
   "cell_type": "markdown",
   "metadata": {},
   "source": [
    "# Afterwords"
   ]
  },
  {
   "cell_type": "markdown",
   "metadata": {},
   "source": [
    "This tool highly depends on python build of the one who run code. That's why unexpected behavior is likely to happen. Feel free to add issues if you have one!"
   ]
  }
 ],
 "metadata": {
  "kernelspec": {
   "display_name": "Python 3 (ipykernel)",
   "language": "python",
   "name": "python3"
  }
 },
 "nbformat": 4,
 "nbformat_minor": 2
}
